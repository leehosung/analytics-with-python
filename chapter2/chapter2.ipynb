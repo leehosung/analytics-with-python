{
 "cells": [
  {
   "cell_type": "code",
   "execution_count": null,
   "metadata": {},
   "outputs": [],
   "source": [
    "import sys"
   ]
  },
  {
   "cell_type": "code",
   "execution_count": null,
   "metadata": {},
   "outputs": [],
   "source": [
    "# 2.1 기본 파이썬 대 팬더스"
   ]
  },
  {
   "cell_type": "code",
   "execution_count": null,
   "metadata": {},
   "outputs": [],
   "source": [
    "# 2.2 CSV 파일 읽고 쓰기(파트1)"
   ]
  },
  {
   "cell_type": "code",
   "execution_count": null,
   "metadata": {},
   "outputs": [],
   "source": [
    "input_file = 'supplier_data.csv'\n",
    "output_file = '1output.csv'"
   ]
  },
  {
   "cell_type": "code",
   "execution_count": null,
   "metadata": {},
   "outputs": [],
   "source": [
    "with open(input_file, 'r', newline='') as filereader:\n",
    "    with open(output_file, 'w', newline='') as filewriter:\n",
    "        header = filereader.readline()\n",
    "        header = header.strip()\n",
    "        header_list = header.split(',')\n",
    "        print(header_list)\n",
    "        filewriter.write(','.join(map(str, header_list)) + '\\n')\n",
    "        for row in filereader:\n",
    "            row = row.strip()\n",
    "            row_list = row.split(',')\n",
    "            print(row_list)\n",
    "            filewriter.write(','.join(map(str, row_list)) + '\\n') # 책에 마지막 괄호가 없음"
   ]
  },
  {
   "cell_type": "code",
   "execution_count": null,
   "metadata": {},
   "outputs": [],
   "source": [
    "import pandas as pd\n",
    "\n",
    "data_frame = pd.read_csv(input_file)\n",
    "print(data_frame)\n",
    "data_frame.to_csv(output_file, index=False)"
   ]
  },
  {
   "cell_type": "code",
   "execution_count": null,
   "metadata": {},
   "outputs": [],
   "source": [
    "# 2.3 기본 문자열 파싱이 실패하는 경우"
   ]
  },
  {
   "cell_type": "code",
   "execution_count": null,
   "metadata": {},
   "outputs": [],
   "source": [
    "# 2.4 CSV 파일 읽고 쓰기(파트2)"
   ]
  },
  {
   "cell_type": "code",
   "execution_count": null,
   "metadata": {},
   "outputs": [],
   "source": [
    "# 2.4.1 기본 파이썬(csv 모듈 사용)"
   ]
  },
  {
   "cell_type": "code",
   "execution_count": null,
   "metadata": {},
   "outputs": [],
   "source": [
    "import csv\n",
    "\n",
    "with open(input_file, 'r', newline='') as csv_in_file:\n",
    "    with open(output_file, 'w', newline='') as csv_out_file:\n",
    "        filereader = csv.reader(csv_in_file, delimiter=',')\n",
    "        filewriter = csv.writer(csv_out_file, delimiter=',')\n",
    "        for row_list in filereader:\n",
    "            filewriter.writerow(row_list)"
   ]
  },
  {
   "cell_type": "code",
   "execution_count": null,
   "metadata": {},
   "outputs": [],
   "source": [
    "# 2.5.1 특정 조건을 충족하는 행의 필터링 "
   ]
  },
  {
   "cell_type": "code",
   "execution_count": null,
   "metadata": {},
   "outputs": [],
   "source": [
    "# 기본 파이썬"
   ]
  },
  {
   "cell_type": "code",
   "execution_count": null,
   "metadata": {},
   "outputs": [],
   "source": [
    "import csv\n",
    "\n",
    "with open(input_file, 'r', newline='') as csv_in_file:\n",
    "    with open(output_file, 'w', newline='') as csv_out_file:\n",
    "        filereader = csv.reader(csv_in_file, delimiter=',')\n",
    "        filewriter = csv.writer(csv_out_file, delimiter=',')\n",
    "        header = next(filereader)\n",
    "        filewriter.writerow(header)\n",
    "        for row_list in filereader:\n",
    "            supplier = str(row_list[0]).strip()\n",
    "            cost = str(row_list[3]).strip('$').replace(',', '')\n",
    "            if supplier == 'Supplier Z' or float(cost) > 600.0:\n",
    "                filewriter.writerow(row_list) "
   ]
  },
  {
   "cell_type": "code",
   "execution_count": null,
   "metadata": {},
   "outputs": [],
   "source": [
    "# 팬더스 "
   ]
  },
  {
   "cell_type": "code",
   "execution_count": null,
   "metadata": {},
   "outputs": [],
   "source": [
    "import pandas as pd\n",
    "\n",
    "data_frame = pd.read_csv(input_file)\n",
    "data_frame['Cost'] = data_frame['Cost'].str.strip('$').astype(float)\n",
    "data_frame_value_meets_condition = data_frame.loc[\n",
    "    (data_frame['Supplier Name'].str.contains('Z') | (data_frame['Cost'] > 600.0)), :\n",
    "]\n",
    "data_frame_value_meets_condition.to_csv(output_file, index=False)\n",
    "data_frame_value_meets_condition"
   ]
  },
  {
   "cell_type": "code",
   "execution_count": null,
   "metadata": {},
   "outputs": [],
   "source": [
    "# 2.5.2 특정 집합의 값을 포함하는 행의 필터링"
   ]
  },
  {
   "cell_type": "code",
   "execution_count": null,
   "metadata": {},
   "outputs": [],
   "source": [
    "# 기본 파이썬"
   ]
  },
  {
   "cell_type": "code",
   "execution_count": null,
   "metadata": {},
   "outputs": [],
   "source": [
    "important_dates = ['1/20/14', '1/30/14']\n",
    "\n",
    "with open(input_file, 'r', newline='') as csv_in_file:\n",
    "    with open(output_file, 'w', newline='') as csv_out_file:\n",
    "        filereader = csv.reader(csv_in_file, delimiter=',')\n",
    "        filewriter = csv.writer(csv_out_file, delimiter=',')\n",
    "        header = next(filereader)\n",
    "        filewriter.writerow(header)\n",
    "        for row_list in filereader:\n",
    "            a_date = row_list[4]\n",
    "            if a_date in important_dates:\n",
    "                filewriter.writerow(row_list) \n",
    "                print(row_list)"
   ]
  },
  {
   "cell_type": "code",
   "execution_count": null,
   "metadata": {},
   "outputs": [],
   "source": [
    "# 팬더스 "
   ]
  },
  {
   "cell_type": "code",
   "execution_count": null,
   "metadata": {},
   "outputs": [],
   "source": [
    "data_frame = pd.read_csv(input_file)\n",
    "data_frame_value_meets_condition = data_frame.loc[\n",
    "    data_frame['Purchase Date'].isin(important_dates), :\n",
    "]\n",
    "data_frame_value_meets_condition.to_csv(output_file, index=False)\n",
    "data_frame_value_meets_condition"
   ]
  },
  {
   "cell_type": "code",
   "execution_count": null,
   "metadata": {},
   "outputs": [],
   "source": [
    "# 2.5.3 패턴/정규 표현식을 활용한 필터링"
   ]
  },
  {
   "cell_type": "code",
   "execution_count": null,
   "metadata": {},
   "outputs": [],
   "source": [
    "import re\n",
    "pattern = re.compile(r'(?P<my_pattern_group>^001-.*)', re.I)"
   ]
  },
  {
   "cell_type": "code",
   "execution_count": null,
   "metadata": {},
   "outputs": [],
   "source": [
    "# 기본 파이썬"
   ]
  },
  {
   "cell_type": "code",
   "execution_count": null,
   "metadata": {},
   "outputs": [],
   "source": [
    "with open(input_file, 'r', newline='') as csv_in_file:\n",
    "    with open(output_file, 'w', newline='') as csv_out_file:\n",
    "        filereader = csv.reader(csv_in_file, delimiter=',')\n",
    "        filewriter = csv.writer(csv_out_file, delimiter=',')\n",
    "        header = next(filereader)\n",
    "        filewriter.writerow(header)\n",
    "        for row_list in filereader:\n",
    "            invoice_number = row_list[1]\n",
    "            if pattern.search(invoice_number):\n",
    "                filewriter.writerow(row_list) \n",
    "                print(row_list)"
   ]
  },
  {
   "cell_type": "code",
   "execution_count": null,
   "metadata": {},
   "outputs": [],
   "source": [
    "# 팬더스"
   ]
  },
  {
   "cell_type": "code",
   "execution_count": null,
   "metadata": {},
   "outputs": [],
   "source": [
    "data_frame = pd.read_csv(input_file)\n",
    "data_frame_value_meets_condition = data_frame.loc[\n",
    "    data_frame['Invoice Number'].str.startswith('001-'), :\n",
    "]\n",
    "data_frame_value_meets_condition.to_csv(output_file, index=False)\n",
    "data_frame_value_meets_condition"
   ]
  },
  {
   "cell_type": "code",
   "execution_count": null,
   "metadata": {},
   "outputs": [],
   "source": [
    "# 2.6 특정 열 선택하기"
   ]
  },
  {
   "cell_type": "code",
   "execution_count": null,
   "metadata": {},
   "outputs": [],
   "source": [
    "# 2.6.1 열의 인덱스 값을 사용하여 특정 열을 선택하는 방법"
   ]
  },
  {
   "cell_type": "code",
   "execution_count": null,
   "metadata": {},
   "outputs": [],
   "source": [
    "my_columns = [0, 3]"
   ]
  },
  {
   "cell_type": "code",
   "execution_count": null,
   "metadata": {},
   "outputs": [],
   "source": [
    "# 기본 파이썬"
   ]
  },
  {
   "cell_type": "code",
   "execution_count": null,
   "metadata": {},
   "outputs": [],
   "source": [
    "with open(input_file, 'r', newline='') as csv_in_file:\n",
    "    with open(output_file, 'w', newline='') as csv_out_file:\n",
    "        filereader = csv.reader(csv_in_file, delimiter=',')\n",
    "        filewriter = csv.writer(csv_out_file, delimiter=',')\n",
    "        header = next(filereader)\n",
    "        filewriter.writerow(header)\n",
    "        for row_list in filereader:\n",
    "            row_list_output = []\n",
    "            for index_value in my_columns:\n",
    "                row_list_output.append(row_list[index_value])\n",
    "            filewriter.writerow(row_list_output)\n",
    "            print(row_list_output)"
   ]
  },
  {
   "cell_type": "code",
   "execution_count": null,
   "metadata": {},
   "outputs": [],
   "source": [
    "# 팬더스"
   ]
  },
  {
   "cell_type": "code",
   "execution_count": null,
   "metadata": {},
   "outputs": [],
   "source": [
    "data_frame = pd.read_csv(input_file)\n",
    "data_frame_column_by_index = data_frame.iloc[:, [0, 3]]\n",
    "data_frame_column_by_index"
   ]
  },
  {
   "cell_type": "code",
   "execution_count": null,
   "metadata": {},
   "outputs": [],
   "source": [
    "# 2.6.2 열의 헤더를 사용하여 특정 열을 선택하는 방법 "
   ]
  },
  {
   "cell_type": "code",
   "execution_count": null,
   "metadata": {},
   "outputs": [],
   "source": [
    "# 기본 파이썬"
   ]
  },
  {
   "cell_type": "code",
   "execution_count": null,
   "metadata": {},
   "outputs": [],
   "source": [
    "my_columns = ['Invoice Number', 'Purchase Date']\n",
    "my_columns_index = []\n",
    "\n",
    "with open(input_file, 'r', newline='') as csv_in_file:\n",
    "    with open(output_file, 'w', newline='') as csv_out_file:\n",
    "        filereader = csv.reader(csv_in_file, delimiter=',')\n",
    "        filewriter = csv.writer(csv_out_file, delimiter=',')\n",
    "        header = next(filereader)\n",
    "        for index_value in range(len(header)):\n",
    "            if header[index_value] in my_columns:\n",
    "                my_columns_index.append(index_value)\n",
    "        filewriter.writerow(header)\n",
    "        for row_list in filereader:\n",
    "            row_list_output = []\n",
    "            for index_value in my_columns_index:\n",
    "                row_list_output.append(row_list[index_value])\n",
    "            filewriter.writerow(row_list_output)\n",
    "            print(row_list_output)"
   ]
  },
  {
   "cell_type": "code",
   "execution_count": null,
   "metadata": {},
   "outputs": [],
   "source": [
    "data_frame = pd.read_csv(input_file)\n",
    "data_frame_column_by_index = data_frame.loc[:, ['Invoice Number', 'Purchase Date']]\n",
    "data_frame_column_by_index"
   ]
  },
  {
   "cell_type": "code",
   "execution_count": null,
   "metadata": {},
   "outputs": [],
   "source": []
  }
 ],
 "metadata": {
  "kernelspec": {
   "display_name": "Python 3",
   "language": "python",
   "name": "python3"
  },
  "language_info": {
   "codemirror_mode": {
    "name": "ipython",
    "version": 3
   },
   "file_extension": ".py",
   "mimetype": "text/x-python",
   "name": "python",
   "nbconvert_exporter": "python",
   "pygments_lexer": "ipython3"
  }
 },
 "nbformat": 4,
 "nbformat_minor": 2
}
