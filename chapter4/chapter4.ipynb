{
 "cells": [
  {
   "cell_type": "code",
   "execution_count": null,
   "metadata": {},
   "outputs": [],
   "source": [
    "# 4.1 파이썬 내장 모듈 sqlite3"
   ]
  },
  {
   "cell_type": "code",
   "execution_count": null,
   "metadata": {},
   "outputs": [],
   "source": [
    "import sqlite3"
   ]
  },
  {
   "cell_type": "code",
   "execution_count": null,
   "metadata": {},
   "outputs": [],
   "source": [
    "con = sqlite3.connect(':memory:')"
   ]
  },
  {
   "cell_type": "code",
   "execution_count": null,
   "metadata": {},
   "outputs": [],
   "source": [
    "query = \"\"\"\n",
    "CREATE TABLE sales\n",
    "(custom VARCHAR(20),\n",
    "product VARCHAR(40),\n",
    "amount FLOAT,\n",
    "date DATE);\n",
    "\"\"\"\n",
    "con.execute(query)\n",
    "con.commit()\n",
    "# Transaction 은 무엇인가?"
   ]
  },
  {
   "cell_type": "code",
   "execution_count": null,
   "metadata": {},
   "outputs": [],
   "source": [
    "data = [\n",
    "    ('Ricahrd Lucas', 'Notepad', 2.50, '2014-01-02'),\n",
    "    ('Jenny Kim', 'Binder', 4.15, '2014-01-15'),\n",
    "    ('Svetlana Crow', 'Printer', 155.75, '2014-02-03'),\n",
    "    ('Stephen Randolph', 'Computer', 679.40, '2014-02-20')\n",
    "]\n",
    "statement = \"INSERT INTO sales VALUES(?, ?, ?, ?)\"\n",
    "con.executemany(statement, data)\n",
    "con.commit()"
   ]
  },
  {
   "cell_type": "code",
   "execution_count": null,
   "metadata": {},
   "outputs": [],
   "source": [
    "cursor = con.execute(\"SELECT * FROM sales\")\n",
    "rows = cursor.fetchall()"
   ]
  },
  {
   "cell_type": "code",
   "execution_count": null,
   "metadata": {},
   "outputs": [],
   "source": [
    "row_count = 0\n",
    "for row in rows:\n",
    "    print(row)\n",
    "    row_count += 1\n",
    "row_count"
   ]
  },
  {
   "cell_type": "code",
   "execution_count": null,
   "metadata": {},
   "outputs": [],
   "source": [
    "# 4.1.1 테이블에 새 레코드 삽입하기 "
   ]
  },
  {
   "cell_type": "code",
   "execution_count": null,
   "metadata": {},
   "outputs": [],
   "source": [
    "import csv\n",
    "import sys"
   ]
  },
  {
   "cell_type": "code",
   "execution_count": null,
   "metadata": {},
   "outputs": [],
   "source": [
    "input_file = \"supplier_data.csv\""
   ]
  },
  {
   "cell_type": "code",
   "execution_count": null,
   "metadata": {},
   "outputs": [],
   "source": [
    "con = sqlite3.connect('Suppliers.db')\n",
    "c = con.cursor()\n",
    "create_table = \"\"\"\n",
    "CREATE TABLE IF NOT EXISTS Suppliers\n",
    "(Supplier_Name VARCHAR(20),\n",
    "Invoice_Number VARCHAR(20),\n",
    "Part_Number VARCHAR(20),\n",
    "Cost FLOAT,\n",
    "Purchase_Date DATE);\n",
    "\"\"\"\n",
    "c.execute(create_table)\n",
    "con.commit()"
   ]
  },
  {
   "cell_type": "code",
   "execution_count": null,
   "metadata": {},
   "outputs": [],
   "source": [
    "file_reader = csv.reader(open(input_file, 'r'), delimiter=',')\n",
    "header = next(file_reader, None)\n",
    "for row in file_reader:\n",
    "    data = []\n",
    "    for column_index in range(len(header)):\n",
    "        data.append(row[column_index])\n",
    "    print(data)\n",
    "    c.execute(\"INSERT INTO Suppliers VALUES (?, ?, ?, ?, ?);\", data)\n",
    "con.commit()\n",
    "print('')"
   ]
  },
  {
   "cell_type": "code",
   "execution_count": null,
   "metadata": {},
   "outputs": [],
   "source": [
    "output = c.execute(\"SELECT * FROM Suppliers\")\n",
    "rows = output.fetchall()\n",
    "for row in rows:\n",
    "    output = []\n",
    "    for column_index in range(len(row)):\n",
    "        output.append(str(row[column_index]))\n",
    "    print(output)"
   ]
  },
  {
   "cell_type": "code",
   "execution_count": null,
   "metadata": {},
   "outputs": [],
   "source": [
    "# 4.1.2 테이블 내 레코드 갱신하기"
   ]
  },
  {
   "cell_type": "code",
   "execution_count": null,
   "metadata": {},
   "outputs": [],
   "source": [
    "con = sqlite3.connect(':memory:')\n",
    "query = \"\"\"\n",
    "CREATE TABLE sales\n",
    "(customer VARCHAR(20),\n",
    "product VARCHAR(40),\n",
    "amount FLOAT,\n",
    "date DATE);\n",
    "\"\"\"\n",
    "con.execute(query)\n",
    "con.commit()\n",
    "data = [\n",
    "    ('Ricahrd Lucas', 'Notepad', 2.50, '2014-01-02'),\n",
    "    ('Jenny Kim', 'Binder', 4.15, '2014-01-15'),\n",
    "    ('Svetlana Crow', 'Printer', 155.75, '2014-02-03'),\n",
    "    ('Stephen Randolph', 'Computer', 679.40, '2014-02-20')\n",
    "]\n",
    "statement = \"INSERT INTO sales VALUES(?, ?, ?, ?)\"\n",
    "con.executemany(statement, data)\n",
    "con.commit()"
   ]
  },
  {
   "cell_type": "code",
   "execution_count": null,
   "metadata": {},
   "outputs": [],
   "source": [
    "input_file = 'data_for_updating.csv'\n",
    "file_reader = csv.reader(open(input_file, 'r'), delimiter=',')\n",
    "header = next(file_reader, None)\n",
    "for row in file_reader:\n",
    "    data = []\n",
    "    for column_index in range(len(header)):\n",
    "        data.append(row[column_index])\n",
    "    print(data)\n",
    "    con.execute('UPDATE sales SET amount=?, date=? WHERE customer=?;', data)\n",
    "con.commit()"
   ]
  },
  {
   "cell_type": "code",
   "execution_count": null,
   "metadata": {},
   "outputs": [],
   "source": [
    "output = con.execute(\"SELECT * FROM sales\")\n",
    "rows = output.fetchall()\n",
    "for row in rows:\n",
    "    output = []\n",
    "    for column_index in range(len(row)):\n",
    "        output.append(str(row[column_index]))\n",
    "    print(output)"
   ]
  }
 ],
 "metadata": {
  "kernelspec": {
   "display_name": "Python 3",
   "language": "python",
   "name": "python3"
  },
  "language_info": {
   "codemirror_mode": {
    "name": "ipython",
    "version": 3
   },
   "file_extension": ".py",
   "mimetype": "text/x-python",
   "name": "python",
   "nbconvert_exporter": "python",
   "pygments_lexer": "ipython3"
  }
 },
 "nbformat": 4,
 "nbformat_minor": 2
}
