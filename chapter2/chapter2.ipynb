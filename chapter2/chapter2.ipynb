{
 "cells": [
  {
   "cell_type": "code",
   "execution_count": null,
   "metadata": {},
   "outputs": [],
   "source": [
    "import sys"
   ]
  },
  {
   "cell_type": "code",
   "execution_count": null,
   "metadata": {},
   "outputs": [],
   "source": [
    "# 2.1 기본 파이썬 대 팬더스"
   ]
  },
  {
   "cell_type": "code",
   "execution_count": null,
   "metadata": {},
   "outputs": [],
   "source": [
    "# 2.2 CSV 파일 읽고 쓰기(파트1)"
   ]
  },
  {
   "cell_type": "code",
   "execution_count": null,
   "metadata": {},
   "outputs": [],
   "source": [
    "input_file = 'supplier_data.csv'\n",
    "output_file = '1output.csv'"
   ]
  },
  {
   "cell_type": "code",
   "execution_count": null,
   "metadata": {},
   "outputs": [],
   "source": [
    "with open(input_file, 'r', newline='') as filereader:\n",
    "    with open(output_file, 'w', newline='') as filewriter:\n",
    "        header = filereader.readline()\n",
    "        header = header.strip()\n",
    "        header_list = header.split(',')\n",
    "        print(header_list)\n",
    "        filewriter.write(','.join(map(str, header_list)) + '\\n')\n",
    "        for row in filereader:\n",
    "            row = row.strip()\n",
    "            row_list = row.split(',')\n",
    "            print(row_list)\n",
    "            filewriter.write(','.join(map(str, row_list)) + '\\n') # 책에 마지막 괄호가 없음"
   ]
  },
  {
   "cell_type": "code",
   "execution_count": null,
   "metadata": {},
   "outputs": [],
   "source": [
    "import pandas as pd\n",
    "\n",
    "data_frame = pd.read_csv(input_file)\n",
    "print(data_frame)\n",
    "data_frame.to_csv(output_file, index=False)"
   ]
  },
  {
   "cell_type": "code",
   "execution_count": null,
   "metadata": {},
   "outputs": [],
   "source": [
    "# 2.3 기본 문자열 파싱이 실패하는 경우"
   ]
  },
  {
   "cell_type": "code",
   "execution_count": null,
   "metadata": {},
   "outputs": [],
   "source": [
    "# 2.4 CSV 파일 읽고 쓰기(파트2)"
   ]
  },
  {
   "cell_type": "code",
   "execution_count": null,
   "metadata": {},
   "outputs": [],
   "source": [
    "# 2.4.1 기본 파이썬(csv 모듈 사용)"
   ]
  },
  {
   "cell_type": "code",
   "execution_count": null,
   "metadata": {},
   "outputs": [],
   "source": [
    "import csv\n",
    "\n",
    "with open(input_file, 'r', newline='') as csv_in_file:\n",
    "    with open(output_file, 'w', newline='') as csv_out_file:\n",
    "        filereader = csv.reader(csv_in_file, delimiter=',')\n",
    "        filewriter = csv.writer(csv_out_file, delimiter=',')\n",
    "        for row_list in filereader:\n",
    "            filewriter.writerow(row_list)"
   ]
  },
  {
   "cell_type": "code",
   "execution_count": null,
   "metadata": {},
   "outputs": [],
   "source": [
    "# 2.5.1 특정 조건을 충족하는 행의 필터링 "
   ]
  },
  {
   "cell_type": "code",
   "execution_count": null,
   "metadata": {},
   "outputs": [],
   "source": [
    "# 기본 파이썬"
   ]
  },
  {
   "cell_type": "code",
   "execution_count": null,
   "metadata": {},
   "outputs": [],
   "source": [
    "import csv\n",
    "\n",
    "with open(input_file, 'r', newline='') as csv_in_file:\n",
    "    with open(output_file, 'w', newline='') as csv_out_file:\n",
    "        filereader = csv.reader(csv_in_file, delimiter=',')\n",
    "        filewriter = csv.writer(csv_out_file, delimiter=',')\n",
    "        header = next(filereader)\n",
    "        filewriter.writerow(header)\n",
    "        for row_list in filereader:\n",
    "            supplier = str(row_list[0]).strip()\n",
    "            cost = str(row_list[3]).strip('$').replace(',', '')\n",
    "            if supplier == 'Supplier Z' or float(cost) > 600.0:\n",
    "                filewriter.writerow(row_list) "
   ]
  },
  {
   "cell_type": "code",
   "execution_count": null,
   "metadata": {},
   "outputs": [],
   "source": [
    "# 팬더스 "
   ]
  },
  {
   "cell_type": "code",
   "execution_count": null,
   "metadata": {},
   "outputs": [],
   "source": [
    "import pandas as pd\n",
    "\n",
    "data_frame = pd.read_csv(input_file)\n",
    "data_frame['Cost'] = data_frame['Cost'].str.strip('$').astype(float)\n",
    "data_frame_value_meets_condition = data_frame.loc[\n",
    "    (data_frame['Supplier Name'].str.contains('Z') | (data_frame['Cost'] > 600.0)), :\n",
    "]\n",
    "data_frame_value_meets_condition.to_csv(output_file, index=False)\n",
    "data_frame_value_meets_condition"
   ]
  },
  {
   "cell_type": "code",
   "execution_count": null,
   "metadata": {},
   "outputs": [],
   "source": [
    "# 2.5.2 특정 집합의 값을 포함하는 행의 필터링"
   ]
  },
  {
   "cell_type": "code",
   "execution_count": null,
   "metadata": {},
   "outputs": [],
   "source": [
    "# 기본 파이썬"
   ]
  },
  {
   "cell_type": "code",
   "execution_count": null,
   "metadata": {},
   "outputs": [],
   "source": [
    "important_dates = ['1/20/14', '1/30/14']\n",
    "\n",
    "with open(input_file, 'r', newline='') as csv_in_file:\n",
    "    with open(output_file, 'w', newline='') as csv_out_file:\n",
    "        filereader = csv.reader(csv_in_file, delimiter=',')\n",
    "        filewriter = csv.writer(csv_out_file, delimiter=',')\n",
    "        header = next(filereader)\n",
    "        filewriter.writerow(header)\n",
    "        for row_list in filereader:\n",
    "            a_date = row_list[4]\n",
    "            if a_date in important_dates:\n",
    "                filewriter.writerow(row_list) \n",
    "                print(row_list)"
   ]
  },
  {
   "cell_type": "code",
   "execution_count": null,
   "metadata": {},
   "outputs": [],
   "source": [
    "# 팬더스 "
   ]
  },
  {
   "cell_type": "code",
   "execution_count": null,
   "metadata": {},
   "outputs": [],
   "source": [
    "data_frame = pd.read_csv(input_file)\n",
    "data_frame_value_meets_condition = data_frame.loc[\n",
    "    data_frame['Purchase Date'].isin(important_dates), :\n",
    "]\n",
    "data_frame_value_meets_condition.to_csv(output_file, index=False)\n",
    "data_frame_value_meets_condition"
   ]
  },
  {
   "cell_type": "code",
   "execution_count": null,
   "metadata": {},
   "outputs": [],
   "source": [
    "# 2.5.3 패턴/정규 표현식을 활용한 필터링"
   ]
  },
  {
   "cell_type": "code",
   "execution_count": null,
   "metadata": {},
   "outputs": [],
   "source": [
    "import re\n",
    "pattern = re.compile(r'(?P<my_pattern_group>^001-.*)', re.I)"
   ]
  },
  {
   "cell_type": "code",
   "execution_count": null,
   "metadata": {},
   "outputs": [],
   "source": [
    "# 기본 파이썬"
   ]
  },
  {
   "cell_type": "code",
   "execution_count": null,
   "metadata": {},
   "outputs": [],
   "source": [
    "with open(input_file, 'r', newline='') as csv_in_file:\n",
    "    with open(output_file, 'w', newline='') as csv_out_file:\n",
    "        filereader = csv.reader(csv_in_file, delimiter=',')\n",
    "        filewriter = csv.writer(csv_out_file, delimiter=',')\n",
    "        header = next(filereader)\n",
    "        filewriter.writerow(header)\n",
    "        for row_list in filereader:\n",
    "            invoice_number = row_list[1]\n",
    "            if pattern.search(invoice_number):\n",
    "                filewriter.writerow(row_list) \n",
    "                print(row_list)"
   ]
  },
  {
   "cell_type": "code",
   "execution_count": null,
   "metadata": {},
   "outputs": [],
   "source": [
    "# 팬더스"
   ]
  },
  {
   "cell_type": "code",
   "execution_count": null,
   "metadata": {},
   "outputs": [],
   "source": [
    "data_frame = pd.read_csv(input_file)\n",
    "data_frame_value_meets_condition = data_frame.loc[\n",
    "    data_frame['Invoice Number'].str.startswith('001-'), :\n",
    "]\n",
    "data_frame_value_meets_condition.to_csv(output_file, index=False)\n",
    "data_frame_value_meets_condition"
   ]
  },
  {
   "cell_type": "code",
   "execution_count": null,
   "metadata": {},
   "outputs": [],
   "source": [
    "# 2.6 특정 열 선택하기"
   ]
  },
  {
   "cell_type": "code",
   "execution_count": null,
   "metadata": {},
   "outputs": [],
   "source": [
    "# 2.6.1 열의 인덱스 값을 사용하여 특정 열을 선택하는 방법"
   ]
  },
  {
   "cell_type": "code",
   "execution_count": null,
   "metadata": {},
   "outputs": [],
   "source": [
    "my_columns = [0, 3]"
   ]
  },
  {
   "cell_type": "code",
   "execution_count": null,
   "metadata": {},
   "outputs": [],
   "source": [
    "# 기본 파이썬"
   ]
  },
  {
   "cell_type": "code",
   "execution_count": null,
   "metadata": {},
   "outputs": [],
   "source": [
    "with open(input_file, 'r', newline='') as csv_in_file:\n",
    "    with open(output_file, 'w', newline='') as csv_out_file:\n",
    "        filereader = csv.reader(csv_in_file, delimiter=',')\n",
    "        filewriter = csv.writer(csv_out_file, delimiter=',')\n",
    "        header = next(filereader)\n",
    "        filewriter.writerow(header)\n",
    "        for row_list in filereader:\n",
    "            row_list_output = []\n",
    "            for index_value in my_columns:\n",
    "                row_list_output.append(row_list[index_value])\n",
    "            filewriter.writerow(row_list_output)\n",
    "            print(row_list_output)"
   ]
  },
  {
   "cell_type": "code",
   "execution_count": null,
   "metadata": {},
   "outputs": [],
   "source": [
    "# 팬더스"
   ]
  },
  {
   "cell_type": "code",
   "execution_count": null,
   "metadata": {},
   "outputs": [],
   "source": [
    "data_frame = pd.read_csv(input_file)\n",
    "data_frame_column_by_index = data_frame.iloc[:, [0, 3]]\n",
    "data_frame_column_by_index"
   ]
  },
  {
   "cell_type": "code",
   "execution_count": null,
   "metadata": {},
   "outputs": [],
   "source": [
    "# 2.6.2 열의 헤더를 사용하여 특정 열을 선택하는 방법 "
   ]
  },
  {
   "cell_type": "code",
   "execution_count": null,
   "metadata": {},
   "outputs": [],
   "source": [
    "# 기본 파이썬"
   ]
  },
  {
   "cell_type": "code",
   "execution_count": null,
   "metadata": {},
   "outputs": [],
   "source": [
    "my_columns = ['Invoice Number', 'Purchase Date']\n",
    "my_columns_index = []\n",
    "\n",
    "with open(input_file, 'r', newline='') as csv_in_file:\n",
    "    with open(output_file, 'w', newline='') as csv_out_file:\n",
    "        filereader = csv.reader(csv_in_file, delimiter=',')\n",
    "        filewriter = csv.writer(csv_out_file, delimiter=',')\n",
    "        header = next(filereader)\n",
    "        for index_value in range(len(header)):\n",
    "            if header[index_value] in my_columns:\n",
    "                my_columns_index.append(index_value)\n",
    "        filewriter.writerow(header)\n",
    "        for row_list in filereader:\n",
    "            row_list_output = []\n",
    "            for index_value in my_columns_index:\n",
    "                row_list_output.append(row_list[index_value])\n",
    "            filewriter.writerow(row_list_output)\n",
    "            print(row_list_output)"
   ]
  },
  {
   "cell_type": "code",
   "execution_count": null,
   "metadata": {},
   "outputs": [],
   "source": [
    "data_frame = pd.read_csv(input_file)\n",
    "data_frame_column_by_index = data_frame.loc[:, ['Invoice Number', 'Purchase Date']]\n",
    "data_frame_column_by_index"
   ]
  },
  {
   "cell_type": "code",
   "execution_count": null,
   "metadata": {},
   "outputs": [],
   "source": [
    "# 2.7 연속된 행 선택하기"
   ]
  },
  {
   "cell_type": "code",
   "execution_count": null,
   "metadata": {},
   "outputs": [],
   "source": [
    "import csv \n",
    "\n",
    "input_file = 'supplier_data_unnecessary_header_footer.csv'\n",
    "output_file = 'output.csv'\n",
    "\n",
    "row_counter = 0\n",
    "with open(input_file, 'r', newline='') as csv_in_file:\n",
    "    with open(output_file, 'w', newline='') as csv_out_file:\n",
    "        filereader = csv.reader(csv_in_file)\n",
    "        filewriter = csv.writer(csv_out_file)\n",
    "        for row in filereader:\n",
    "            if row_counter >= 3 and row_counter <= 15:\n",
    "                filewriter.writerow([value.strip() for value in row])\n",
    "            row_counter += 1"
   ]
  },
  {
   "cell_type": "code",
   "execution_count": null,
   "metadata": {},
   "outputs": [],
   "source": [
    "import pandas as pd\n",
    "\n",
    "data_frame = pd.read_csv(input_file, skiprows=3, header=None)\n",
    "data_frame = data_frame.drop([13, 14, 15])\n",
    "data_frame.columns = data_frame.iloc[0]\n",
    "data_frame = data_frame.reindex(data_frame.index.drop(0))\n",
    "data_frame"
   ]
  },
  {
   "cell_type": "code",
   "execution_count": null,
   "metadata": {},
   "outputs": [],
   "source": [
    "# 2.8 헤더 추가하기\n",
    "input_file = 'supplier_data_no_header_row.csv'\n",
    "output_file = 'output.csv'"
   ]
  },
  {
   "cell_type": "code",
   "execution_count": null,
   "metadata": {},
   "outputs": [],
   "source": [
    "with open(input_file, 'r', newline='') as csv_in_file:\n",
    "    with open(output_file, 'w', newline='') as csv_out_file:\n",
    "        filereader = csv.reader(csv_in_file)\n",
    "        filewriter = csv.writer(csv_out_file)\n",
    "        header_list = ['Supplier Name', 'Invoice Number', 'Part Number', 'Cost', 'Purchase Date']\n",
    "        filewriter.writerow(header_list)\n",
    "        for row in filereader:\n",
    "            filewriter.writerow(row)"
   ]
  },
  {
   "cell_type": "code",
   "execution_count": null,
   "metadata": {},
   "outputs": [],
   "source": [
    "header_list = ['Supplier Name', 'Invoice Number', 'Part Number', 'Cost', 'Purchase Date']\n",
    "df = pd.read_csv(input_file, header=None, names=header_list)\n",
    "df"
   ]
  },
  {
   "cell_type": "code",
   "execution_count": null,
   "metadata": {},
   "outputs": [],
   "source": [
    "# 2.9 여러 개의 CSV 파일 읽기 "
   ]
  },
  {
   "cell_type": "code",
   "execution_count": null,
   "metadata": {},
   "outputs": [],
   "source": [
    "import glob\n",
    "import os\n",
    "import sys\n",
    "\n",
    "input_path = '.'\n",
    "\n",
    "file_counter = 0\n",
    "for input_file in glob.glob(os.path.join(input_path, 'deals*')):\n",
    "    row_counter = 1\n",
    "    with open(input_file, 'r', newline='') as csv_in_file:\n",
    "        filereader = csv.reader(csv_in_file)\n",
    "        header = next(filereader)\n",
    "        for row in filereader:\n",
    "            row_counter += 1\n",
    "    print('{0!s}: \\t{1:d} rows \\t {2:d} columns'.format(\n",
    "        os.path.basename(input_file), row_counter, len(header)))\n",
    "    file_counter += 1\n",
    "print('Number of files: {0:d}'.format(file_counter))"
   ]
  },
  {
   "cell_type": "code",
   "execution_count": null,
   "metadata": {},
   "outputs": [],
   "source": [
    "# 2.10 여러 파일의 데이터 합치기\n",
    "csv_in_file = ''\n",
    "csv_out_file = 'output.csv'"
   ]
  },
  {
   "cell_type": "code",
   "execution_count": null,
   "metadata": {},
   "outputs": [],
   "source": [
    "import glob\n",
    "import os\n",
    "import sys\n",
    "\n",
    "input_path = '.'\n",
    "\n",
    "first_file = True\n",
    "for input_file in glob.glob(os.path.join(input_path, 'deals*')):\n",
    "    with open(input_file, 'r', newline='') as csv_in_file:\n",
    "        with open(output_file, 'a', newline='') as csv_out_file:\n",
    "            filereader = csv.reader(csv_in_file)\n",
    "            filewriter = csv.writer(csv_out_file)\n",
    "            if first_file:\n",
    "                for row in filereader:\n",
    "                    filewriter.writerow(row)\n",
    "                first_file = False\n",
    "            else:\n",
    "                header = next(filereader)\n",
    "                for row in filereader:\n",
    "                    filewriter.writerow(row)"
   ]
  },
  {
   "cell_type": "code",
   "execution_count": null,
   "metadata": {},
   "outputs": [],
   "source": [
    "all_files = glob.glob(os.path.join(input_path, 'deals*'))\n",
    "\n",
    "all_data_frames = []\n",
    "for file in all_files:\n",
    "    data_frame = pd.read_csv(file)\n",
    "    all_data_frames.append(data_frame)\n",
    "data_frame_concat = pd.concat(all_data_frames)\n",
    "data_frame_concat"
   ]
  },
  {
   "cell_type": "code",
   "execution_count": null,
   "metadata": {},
   "outputs": [],
   "source": [
    "# 2.11 파일에서 데이터 값의 합계 및 평균 계산하기\n",
    "\n",
    "input_path = '.'\n",
    "output_file = 'output.csv'\n",
    "output_header_list = ['file_name', 'total_amount', 'average_amount']"
   ]
  },
  {
   "cell_type": "code",
   "execution_count": null,
   "metadata": {},
   "outputs": [],
   "source": [
    "\n",
    "csv_out_file = open(output_file, 'a', newline='')\n",
    "filewriter = csv.writer(csv_out_file)\n",
    "filewriter.writerow(output_header_list)\n",
    "\n",
    "for input_file in glob.glob(os.path.join(input_path, 'deals*')):\n",
    "    with open(input_file, 'r', newline='') as csv_in_file:\n",
    "        filereader = csv.reader(csv_in_file)\n",
    "        output_list = []\n",
    "        output_list.append(os.path.basename(input_file))\n",
    "        header = next(filereader)\n",
    "        total_amount = 0.0\n",
    "        number_of_deals = 0.0\n",
    "        for row in filereader:\n",
    "            deal_amount = row[3]\n",
    "            total_amount += int(deal_amount)\n",
    "            number_of_deals += 1.0\n",
    "        average_amount = '{0:.2f}'.format(total_amount / number_of_deals)\n",
    "        output_list.append(total_amount)\n",
    "        output_list.append(average_amount)\n",
    "        filewriter.writerow(output_list)\n",
    "csv_out_file.close()"
   ]
  },
  {
   "cell_type": "code",
   "execution_count": null,
   "metadata": {},
   "outputs": [],
   "source": [
    "all_files = glob.glob(os.path.join(input_path, 'deals*'))\n",
    "\n",
    "all_data_frames = []\n",
    "for input_file in all_files:\n",
    "    data_frame = pd.read_csv(input_file)\n",
    "    amounts = [value for value in data_frame.loc[:, 'amount']]\n",
    "    total_amount = pd.DataFrame(amounts).sum()\n",
    "    average_amount = pd.DataFrame(amounts).mean()\n",
    "    data = {\n",
    "        'file_name': os.path.basename(input_file),\n",
    "        'total_amount': total_amount,\n",
    "        'average_amount': average_amount\n",
    "    }\n",
    "    all_data_frames.append(pd.DataFrame(data, columns=output_header_list))\n",
    "data_frame_concat = pd.concat(all_data_frames, ignore_index=True)\n",
    "data_frame_concat"
   ]
  },
  {
   "cell_type": "code",
   "execution_count": null,
   "metadata": {},
   "outputs": [],
   "source": [
    "# 2.12 연습 문제"
   ]
  }
 ],
 "metadata": {
  "kernelspec": {
   "display_name": "Python 3",
   "language": "python",
   "name": "python3"
  },
  "language_info": {
   "codemirror_mode": {
    "name": "ipython",
    "version": 3
   },
   "file_extension": ".py",
   "mimetype": "text/x-python",
   "name": "python",
   "nbconvert_exporter": "python",
   "pygments_lexer": "ipython3"
  }
 },
 "nbformat": 4,
 "nbformat_minor": 2
}
