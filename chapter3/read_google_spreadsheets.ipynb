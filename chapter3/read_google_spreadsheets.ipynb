{
 "cells": [
  {
   "cell_type": "markdown",
   "metadata": {},
   "source": [
    "### 구글스프레드시트 읽기 \n",
    "\n",
    "- 라이브러리: https://github.com/burnash/gspread\n",
    "- 인증: http://gspread.readthedocs.io/en/latest/oauth2.html\n",
    "- 해당 문서에 이 계정이 읽기 권한으로 추가 되어 있어야 합니다."
   ]
  },
  {
   "cell_type": "code",
   "execution_count": null,
   "metadata": {},
   "outputs": [],
   "source": [
    "import re\n",
    "from datetime import datetime\n",
    "\n",
    "import cufflinks as cf\n",
    "import pandas as pd\n",
    "import gspread\n",
    "from oauth2client.service_account import ServiceAccountCredentials"
   ]
  },
  {
   "cell_type": "code",
   "execution_count": null,
   "metadata": {},
   "outputs": [],
   "source": [
    "scope = ['https://spreadsheets.google.com/feeds']\n",
    "\n",
    "credentials = ServiceAccountCredentials.from_json_keyfile_name('../client_secret.json', scope)\n",
    "gc = gspread.authorize(credentials)"
   ]
  },
  {
   "cell_type": "code",
   "execution_count": null,
   "metadata": {},
   "outputs": [],
   "source": [
    "# 워크시트 리스트 얻기\n",
    "sh = gc.open_by_url(\n",
    "    \"https://docs.google.com/spreadsheets/d/1GZwrp-ESdigetkbXzSvFo63l8PPLe-VCmyop9fN8qPI/edit?usp=sharing\"\n",
    ")\n",
    "\n",
    "worksheet_list = sh.worksheets()\n",
    "worksheet_list"
   ]
  },
  {
   "cell_type": "code",
   "execution_count": null,
   "metadata": {},
   "outputs": [],
   "source": [
    "# 값 하나 읽어보기\n",
    "worksheet = sh.get_worksheet(0)\n",
    "\n",
    "print(worksheet.acell('B1').value)\n",
    "print(worksheet.cell(1, 2).value)"
   ]
  },
  {
   "cell_type": "code",
   "execution_count": null,
   "metadata": {},
   "outputs": [],
   "source": [
    "# 한 줄 읽기\n",
    "worksheet.row_values(1)"
   ]
  },
  {
   "cell_type": "code",
   "execution_count": null,
   "metadata": {},
   "outputs": [],
   "source": [
    "# 한 칼럼 읽기\n",
    "worksheet.col_values(1)"
   ]
  },
  {
   "cell_type": "code",
   "execution_count": null,
   "metadata": {},
   "outputs": [],
   "source": [
    "# 통째로 읽기\n",
    "data = worksheet.get_all_values()\n",
    "df = pd.DataFrame(data=data)\n",
    "df"
   ]
  },
  {
   "cell_type": "code",
   "execution_count": null,
   "metadata": {},
   "outputs": [],
   "source": []
  }
 ],
 "metadata": {
  "kernelspec": {
   "display_name": "Django Shell-Plus",
   "language": "python",
   "name": "django_extensions"
  },
  "language_info": {
   "codemirror_mode": {
    "name": "ipython",
    "version": 3
   },
   "file_extension": ".py",
   "mimetype": "text/x-python",
   "name": "python",
   "nbconvert_exporter": "python",
   "pygments_lexer": "ipython3"
  }
 },
 "nbformat": 4,
 "nbformat_minor": 2
}
