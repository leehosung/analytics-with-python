{
 "cells": [
  {
   "cell_type": "code",
   "execution_count": null,
   "metadata": {},
   "outputs": [],
   "source": [
    "import getpass\n",
    "password = getpass.getpass()"
   ]
  },
  {
   "cell_type": "code",
   "execution_count": null,
   "metadata": {},
   "outputs": [],
   "source": [
    "import psycopg2\n",
    "\n",
    "# 데이터베이스에 연결\n",
    "conn = psycopg2.connect('postgres://{}'.format(password))\n",
    "# 커서를 연다\n",
    "cur = conn.cursor()\n",
    "\n",
    "cur.execute(\"SELECT * FROM public_relations_article WHERE is_special=true\")\n",
    "articles = cur.fetchall()\n",
    "\n",
    "for articel in articles:\n",
    "    print(articel[1])\n",
    "\n",
    "# 연결을 종료한다\n",
    "cur.close()\n",
    "conn.close()"
   ]
  },
  {
   "cell_type": "code",
   "execution_count": null,
   "metadata": {},
   "outputs": [],
   "source": [
    "import getpass\n",
    "password = getpass.getpass()\n",
    "import pandas as pd\n",
    "from sqlalchemy import create_engine\n",
    "\n",
    "engine = create_engine('postgres://{}'.format(password))\n",
    "\n",
    "articles = pd.read_sql_query(\n",
    "    \"SELECT * FROM public_relations_article WHERE is_special=true\"\n",
    "    ,con=engine)\n",
    "articles[\"title\"]"
   ]
  },
  {
   "cell_type": "code",
   "execution_count": null,
   "metadata": {},
   "outputs": [],
   "source": [
    "articles[\"title\"]"
   ]
  }
 ],
 "metadata": {
  "kernelspec": {
   "display_name": "Python 3",
   "language": "python",
   "name": "python3"
  },
  "language_info": {
   "codemirror_mode": {
    "name": "ipython",
    "version": 3
   },
   "file_extension": ".py",
   "mimetype": "text/x-python",
   "name": "python",
   "nbconvert_exporter": "python",
   "pygments_lexer": "ipython3"
  }
 },
 "nbformat": 4,
 "nbformat_minor": 2
}
